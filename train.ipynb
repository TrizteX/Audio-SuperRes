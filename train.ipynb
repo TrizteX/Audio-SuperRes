{
 "cells": [
  {
   "cell_type": "code",
   "execution_count": 1,
   "metadata": {},
   "outputs": [],
   "source": [
    "import import_ipynb"
   ]
  },
  {
   "cell_type": "code",
   "execution_count": 2,
   "metadata": {},
   "outputs": [
    {
     "name": "stderr",
     "output_type": "stream",
     "text": [
      "Using TensorFlow backend.\n"
     ]
    },
    {
     "name": "stdout",
     "output_type": "stream",
     "text": [
      "importing Jupyter notebook from models.ipynb\n",
      "importing Jupyter notebook from utils.ipynb\n"
     ]
    }
   ],
   "source": [
    "import os\n",
    "from keras.callbacks import ModelCheckpoint, EarlyStopping\n",
    "from models import base_model\n",
    "from utils import load_model, SNR, sum_loss, compile_model\n",
    "import h5py\n"
   ]
  },
  {
   "cell_type": "code",
   "execution_count": 3,
   "metadata": {},
   "outputs": [],
   "source": [
    "def load_h5_list(dirname):\n",
    "    datasets = []\n",
    "    filenames = os.listdir(dirname)\n",
    "    file_extensions = set(['.h5'])\n",
    "    for filename in filenames:\n",
    "        ext = os.path.splitext(filename)[-1]\n",
    "        if ext in file_extensions:\n",
    "            full_filename = os.path.join(dirname, filename)\n",
    "            datasets.append(full_filename)\n",
    "    return datasets"
   ]
  },
  {
   "cell_type": "code",
   "execution_count": 4,
   "metadata": {},
   "outputs": [],
   "source": [
    "def load_h5(dataset_name):\n",
    "    print('Loading dataset ',dataset_name)\n",
    "    with h5py.File(dataset_name, 'r') as hf:\n",
    "        X = (hf['data'][:])\n",
    "        Y = (hf['label'][:])\n",
    "    print(X.shape)\n",
    "    print(Y.shape)\n",
    "    return X, Y"
   ]
  },
  {
   "cell_type": "code",
   "execution_count": 7,
   "metadata": {},
   "outputs": [],
   "source": [
    "def run():\n",
    "    # Hyper params\n",
    "    EPOCHS = 1\n",
    "    BATCH_SIZE = 256\n",
    "    LOAD_WEIGHTS = True\n",
    "    WEIGHTS_PATH = 'weights/'\n",
    "    WEIGHTS_FILE = 'asr-weights.hdf5'\n",
    "    VALID_SPLIT = 0.05\n",
    "    SHUFFLE = True\n",
    "    MINI_EPOCH = 3 # set each dataset's epochs\n",
    "    \n",
    "    model = base_model()\n",
    "    model = load_model(model, os.path.join(WEIGHTS_PATH, WEIGHTS_FILE), load_weights=LOAD_WEIGHTS)\n",
    "    model = compile_model(model)\n",
    "    \n",
    "    datasets = load_h5_list('data/')\n",
    "    checkpointer = ModelCheckpoint(filepath=os.path.join(WEIGHTS_PATH, WEIGHTS_FILE), verbose=1, save_best_only=True) \n",
    "    earlystopper = EarlyStopping(monitor='val_loss', patience=3, verbose=0)\n",
    "    \n",
    "    for i in range(EPOCHS):\n",
    "        print('#REAL EPOCH(%3d/%3d)'%(i+1,EPOCHS))\n",
    "        for dataset in datasets:\n",
    "            X,Y = load_h5(dataset)\n",
    "            model.fit(X, Y,\n",
    "                    batch_size=BATCH_SIZE,\n",
    "                    epochs=MINI_EPOCH, \n",
    "                    shuffle=SHUFFLE,\n",
    "                    callbacks=[checkpointer, earlystopper],\n",
    "                    validation_split=VALID_SPLIT)\n",
    "    print('Training Finished')"
   ]
  },
  {
   "cell_type": "code",
   "execution_count": 8,
   "metadata": {},
   "outputs": [
    {
     "name": "stdout",
     "output_type": "stream",
     "text": [
      "load base model..\n",
      "Model: \"model_2\"\n",
      "__________________________________________________________________________________________________\n",
      "Layer (type)                    Output Shape         Param #     Connected to                     \n",
      "==================================================================================================\n",
      "input_2 (InputLayer)            (None, 256, 1)       0                                            \n",
      "__________________________________________________________________________________________________\n",
      "conv1d_15 (Conv1D)              (None, 128, 16)      272         input_2[0][0]                    \n",
      "__________________________________________________________________________________________________\n",
      "leaky_re_lu_8 (LeakyReLU)       (None, 128, 16)      0           conv1d_15[0][0]                  \n",
      "__________________________________________________________________________________________________\n",
      "conv1d_16 (Conv1D)              (None, 64, 32)       4128        leaky_re_lu_8[0][0]              \n",
      "__________________________________________________________________________________________________\n",
      "leaky_re_lu_9 (LeakyReLU)       (None, 64, 32)       0           conv1d_16[0][0]                  \n",
      "__________________________________________________________________________________________________\n",
      "conv1d_17 (Conv1D)              (None, 32, 32)       4128        leaky_re_lu_9[0][0]              \n",
      "__________________________________________________________________________________________________\n",
      "leaky_re_lu_10 (LeakyReLU)      (None, 32, 32)       0           conv1d_17[0][0]                  \n",
      "__________________________________________________________________________________________________\n",
      "conv1d_18 (Conv1D)              (None, 16, 32)       4128        leaky_re_lu_10[0][0]             \n",
      "__________________________________________________________________________________________________\n",
      "leaky_re_lu_11 (LeakyReLU)      (None, 16, 32)       0           conv1d_18[0][0]                  \n",
      "__________________________________________________________________________________________________\n",
      "conv1d_19 (Conv1D)              (None, 8, 32)        4128        leaky_re_lu_11[0][0]             \n",
      "__________________________________________________________________________________________________\n",
      "leaky_re_lu_12 (LeakyReLU)      (None, 8, 32)        0           conv1d_19[0][0]                  \n",
      "__________________________________________________________________________________________________\n",
      "conv1d_20 (Conv1D)              (None, 4, 32)        4128        leaky_re_lu_12[0][0]             \n",
      "__________________________________________________________________________________________________\n",
      "leaky_re_lu_13 (LeakyReLU)      (None, 4, 32)        0           conv1d_20[0][0]                  \n",
      "__________________________________________________________________________________________________\n",
      "conv1d_21 (Conv1D)              (None, 2, 32)        4128        leaky_re_lu_13[0][0]             \n",
      "__________________________________________________________________________________________________\n",
      "leaky_re_lu_14 (LeakyReLU)      (None, 2, 32)        0           conv1d_21[0][0]                  \n",
      "__________________________________________________________________________________________________\n",
      "conv1d_22 (Conv1D)              (None, 2, 64)        8256        leaky_re_lu_14[0][0]             \n",
      "__________________________________________________________________________________________________\n",
      "activation_7 (Activation)       (None, 2, 64)        0           conv1d_22[0][0]                  \n",
      "__________________________________________________________________________________________________\n",
      "dropout_7 (Dropout)             (None, 2, 64)        0           activation_7[0][0]               \n",
      "__________________________________________________________________________________________________\n",
      "lambda_8 (Lambda)               (None, 4, 32)        0           dropout_7[0][0]                  \n",
      "__________________________________________________________________________________________________\n",
      "concatenate_7 (Concatenate)     (None, 4, 64)        0           lambda_8[0][0]                   \n",
      "                                                                 leaky_re_lu_13[0][0]             \n",
      "__________________________________________________________________________________________________\n",
      "conv1d_23 (Conv1D)              (None, 4, 64)        16448       concatenate_7[0][0]              \n",
      "__________________________________________________________________________________________________\n",
      "activation_8 (Activation)       (None, 4, 64)        0           conv1d_23[0][0]                  \n",
      "__________________________________________________________________________________________________\n",
      "dropout_8 (Dropout)             (None, 4, 64)        0           activation_8[0][0]               \n",
      "__________________________________________________________________________________________________\n",
      "lambda_9 (Lambda)               (None, 8, 32)        0           dropout_8[0][0]                  \n",
      "__________________________________________________________________________________________________\n",
      "concatenate_8 (Concatenate)     (None, 8, 64)        0           lambda_9[0][0]                   \n",
      "                                                                 leaky_re_lu_12[0][0]             \n",
      "__________________________________________________________________________________________________\n",
      "conv1d_24 (Conv1D)              (None, 8, 64)        16448       concatenate_8[0][0]              \n",
      "__________________________________________________________________________________________________\n",
      "activation_9 (Activation)       (None, 8, 64)        0           conv1d_24[0][0]                  \n",
      "__________________________________________________________________________________________________\n",
      "dropout_9 (Dropout)             (None, 8, 64)        0           activation_9[0][0]               \n",
      "__________________________________________________________________________________________________\n",
      "lambda_10 (Lambda)              (None, 16, 32)       0           dropout_9[0][0]                  \n",
      "__________________________________________________________________________________________________\n",
      "concatenate_9 (Concatenate)     (None, 16, 64)       0           lambda_10[0][0]                  \n",
      "                                                                 leaky_re_lu_11[0][0]             \n",
      "__________________________________________________________________________________________________\n",
      "conv1d_25 (Conv1D)              (None, 16, 64)       16448       concatenate_9[0][0]              \n",
      "__________________________________________________________________________________________________\n",
      "activation_10 (Activation)      (None, 16, 64)       0           conv1d_25[0][0]                  \n",
      "__________________________________________________________________________________________________\n",
      "dropout_10 (Dropout)            (None, 16, 64)       0           activation_10[0][0]              \n",
      "__________________________________________________________________________________________________\n",
      "lambda_11 (Lambda)              (None, 32, 32)       0           dropout_10[0][0]                 \n",
      "__________________________________________________________________________________________________\n",
      "concatenate_10 (Concatenate)    (None, 32, 64)       0           lambda_11[0][0]                  \n",
      "                                                                 leaky_re_lu_10[0][0]             \n",
      "__________________________________________________________________________________________________\n",
      "conv1d_26 (Conv1D)              (None, 32, 64)       32832       concatenate_10[0][0]             \n",
      "__________________________________________________________________________________________________\n",
      "activation_11 (Activation)      (None, 32, 64)       0           conv1d_26[0][0]                  \n",
      "__________________________________________________________________________________________________\n",
      "dropout_11 (Dropout)            (None, 32, 64)       0           activation_11[0][0]              \n",
      "__________________________________________________________________________________________________\n",
      "lambda_12 (Lambda)              (None, 64, 32)       0           dropout_11[0][0]                 \n",
      "__________________________________________________________________________________________________\n",
      "concatenate_11 (Concatenate)    (None, 64, 64)       0           lambda_12[0][0]                  \n",
      "                                                                 leaky_re_lu_9[0][0]              \n",
      "__________________________________________________________________________________________________\n",
      "conv1d_27 (Conv1D)              (None, 64, 32)       32800       concatenate_11[0][0]             \n",
      "__________________________________________________________________________________________________\n",
      "activation_12 (Activation)      (None, 64, 32)       0           conv1d_27[0][0]                  \n",
      "__________________________________________________________________________________________________\n",
      "dropout_12 (Dropout)            (None, 64, 32)       0           activation_12[0][0]              \n",
      "__________________________________________________________________________________________________\n",
      "lambda_13 (Lambda)              (None, 128, 16)      0           dropout_12[0][0]                 \n",
      "__________________________________________________________________________________________________\n",
      "concatenate_12 (Concatenate)    (None, 128, 32)      0           lambda_13[0][0]                  \n",
      "                                                                 leaky_re_lu_8[0][0]              \n",
      "__________________________________________________________________________________________________\n",
      "conv1d_28 (Conv1D)              (None, 128, 2)       514         concatenate_12[0][0]             \n",
      "__________________________________________________________________________________________________\n",
      "lambda_14 (Lambda)              (None, 256, 1)       0           conv1d_28[0][0]                  \n",
      "__________________________________________________________________________________________________\n",
      "add_2 (Add)                     (None, 256, 1)       0           lambda_14[0][0]                  \n",
      "                                                                 input_2[0][0]                    \n",
      "==================================================================================================\n",
      "Total params: 148,786\n",
      "Trainable params: 148,786\n",
      "Non-trainable params: 0\n",
      "__________________________________________________________________________________________________\n"
     ]
    },
    {
     "name": "stdout",
     "output_type": "stream",
     "text": [
      "load model weights success!\n",
      "model compilation success!\n",
      "#REAL EPOCH(  1/  1)\n",
      "Loading dataset  data/asr-ex10-start0-end9-scale8-sr48000-dim256-strd64-train.h5\n",
      "(22031, 256, 1)\n",
      "(22031, 256, 1)\n",
      "Train on 20929 samples, validate on 1102 samples\n",
      "Epoch 1/3\n",
      "20929/20929 [==============================] - 11s 533us/step - loss: 6.2195e-05 - sum_loss: 4.0638 - SNR: 15.3516 - val_loss: 1.6534e-04 - val_sum_loss: 9.3287 - val_SNR: 10.0173\n",
      "\n",
      "Epoch 00001: val_loss improved from inf to 0.00017, saving model to weights/asr-weights.hdf5\n",
      "Epoch 2/3\n",
      "20929/20929 [==============================] - 11s 508us/step - loss: 6.1496e-05 - sum_loss: 4.0181 - SNR: 15.3729 - val_loss: 1.6396e-04 - val_sum_loss: 9.2509 - val_SNR: 10.0104\n",
      "\n",
      "Epoch 00002: val_loss improved from 0.00017 to 0.00016, saving model to weights/asr-weights.hdf5\n",
      "Epoch 3/3\n",
      "20929/20929 [==============================] - 11s 504us/step - loss: 6.0684e-05 - sum_loss: 3.9650 - SNR: 15.4158 - val_loss: 1.2796e-04 - val_sum_loss: 7.2198 - val_SNR: 10.3305\n",
      "\n",
      "Epoch 00003: val_loss improved from 0.00016 to 0.00013, saving model to weights/asr-weights.hdf5\n",
      "Training Finished\n"
     ]
    }
   ],
   "source": [
    "if __name__ == '__main__':\n",
    "    run()\n",
    "    #print('Model already trained!')"
   ]
  },
  {
   "cell_type": "code",
   "execution_count": null,
   "metadata": {},
   "outputs": [],
   "source": []
  }
 ],
 "metadata": {
  "kernelspec": {
   "display_name": "Python 3",
   "language": "python",
   "name": "python3"
  },
  "language_info": {
   "codemirror_mode": {
    "name": "ipython",
    "version": 3
   },
   "file_extension": ".py",
   "mimetype": "text/x-python",
   "name": "python",
   "nbconvert_exporter": "python",
   "pygments_lexer": "ipython3",
   "version": "3.6.10"
  }
 },
 "nbformat": 4,
 "nbformat_minor": 4
}
