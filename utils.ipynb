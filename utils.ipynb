{
 "cells": [
  {
   "cell_type": "code",
   "execution_count": 2,
   "metadata": {},
   "outputs": [
    {
     "name": "stderr",
     "output_type": "stream",
     "text": [
      "Using TensorFlow backend.\n"
     ]
    }
   ],
   "source": [
    "import librosa\n",
    "import numpy as np\n",
    "from scipy import interpolate\n",
    "from scipy.signal import decimate\n",
    "from matplotlib import pyplot as plt\n",
    "from scipy import signal\n",
    "import h5py\n",
    "import wave\n",
    "from keras import backend as K"
   ]
  },
  {
   "cell_type": "code",
   "execution_count": 3,
   "metadata": {},
   "outputs": [],
   "source": [
    "def SNR(y_true,y_pred):\n",
    "    P = y_pred\n",
    "    Y = y_true\n",
    "    sqrt_l2_loss = K.sqrt(K.mean((P-Y)**2 + 1e-6))\n",
    "    sqrn_l2_norm = K.sqrt(K.mean(Y**2))\n",
    "    snr = 20 * K.log(sqrn_l2_norm / sqrt_l2_loss + 1e-8) / K.log(10.)\n",
    "    avg_snr = K.mean(snr)\n",
    "    return avg_snr"
   ]
  },
  {
   "cell_type": "code",
   "execution_count": 4,
   "metadata": {},
   "outputs": [],
   "source": [
    "def sum_loss(y_true,y_pred):\n",
    "    P = y_pred\n",
    "    Y = y_true\n",
    "    loss = K.sum((P-Y)**2)\n",
    "    return loss"
   ]
  },
  {
   "cell_type": "code",
   "execution_count": 5,
   "metadata": {},
   "outputs": [],
   "source": [
    "def load_model(model, weights_file, load_weights=False):\n",
    "    if load_weights: \n",
    "        model.load_weights(weights_file)\n",
    "        print('load model weights success!')\n",
    "    return model"
   ]
  },
  {
   "cell_type": "code",
   "execution_count": 6,
   "metadata": {},
   "outputs": [],
   "source": [
    "def compile_model(model):\n",
    "    model.compile(loss='mse', optimizer=\"adam\", metrics=[sum_loss, SNR])\n",
    "    print('model compilation success!')\n",
    "    return model"
   ]
  },
  {
   "cell_type": "code",
   "execution_count": 7,
   "metadata": {},
   "outputs": [],
   "source": [
    "def wav2plot(signal):\n",
    "    #Extract Raw Audio from Wav File\n",
    "    #signal = spf.readframes(-1)\n",
    "    signal = np.fromstring(signal, 'Int16')\n",
    "    plt.figure(1)\n",
    "    plt.title('Signal Wave...')\n",
    "    plt.plot(signal)\n",
    "    plt.show()"
   ]
  },
  {
   "cell_type": "code",
   "execution_count": 8,
   "metadata": {},
   "outputs": [],
   "source": [
    "def float2complex(fdata):\n",
    "    compx = fdata[...,0] + fdata[...,1] * 1j \n",
    "    return compx"
   ]
  },
  {
   "cell_type": "code",
   "execution_count": 9,
   "metadata": {},
   "outputs": [],
   "source": [
    "def upsample(x_lr, r):\n",
    "    x_lr = x_lr.flatten()\n",
    "    x_hr_len = len(x_lr) * r\n",
    "    x_sp = np.zeros(x_hr_len)\n",
    "\n",
    "    i_lr = np.arange(x_hr_len, step=r)\n",
    "    i_hr = np.arange(x_hr_len)\n",
    "\n",
    "    f = interpolate.splrep(i_lr, x_lr)\n",
    "    x_sp = interpolate.splev(i_hr, f)\n",
    "\n",
    "    return x_sp"
   ]
  },
  {
   "cell_type": "code",
   "execution_count": 10,
   "metadata": {},
   "outputs": [],
   "source": [
    "def pad_with(vector, pad_width, iaxis, kwargs):\n",
    "    pad_value = kwargs.get('padder', 0)\n",
    "    vector[:pad_width[0]] = pad_value\n",
    "    return vector"
   ]
  },
  {
   "cell_type": "code",
   "execution_count": 11,
   "metadata": {},
   "outputs": [],
   "source": [
    "def STFT(X, title,n_fft=2048, show=False):\n",
    "    print(X)\n",
    "    S = librosa.stft(X,n_fft=n_fft)\n",
    "    S = S.T\n",
    "    S_real = np.expand_dims(S.real, axis=-1) \n",
    "    S_imag = np.expand_dims(S.imag, axis=-1)\n",
    "    S_data = np.concatenate((S_real, S_imag),axis=-1)\n",
    "    if show:\n",
    "        showSpectrum(S,title)\n",
    "        \n",
    "    return S_data, S"
   ]
  },
  {
   "cell_type": "code",
   "execution_count": 12,
   "metadata": {},
   "outputs": [],
   "source": [
    "def showSpectrum(S,title,aspect=0.1):\n",
    "    aS = np.abs(S)\n",
    "    iS = np.log1p(aS)\n",
    "    plt.figure(figsize=(20,10))\n",
    "    plt.imshow(iS.T, aspect=aspect)\n",
    "    plt.tight_layout()\n",
    "    plt.title(title)\n",
    "    plt.show()"
   ]
  },
  {
   "cell_type": "code",
   "execution_count": 13,
   "metadata": {},
   "outputs": [],
   "source": [
    "def iSFTF(S):\n",
    "    X = librosa.istft(S)\n",
    "    return X"
   ]
  },
  {
   "cell_type": "code",
   "execution_count": null,
   "metadata": {},
   "outputs": [],
   "source": []
  }
 ],
 "metadata": {
  "kernelspec": {
   "display_name": "Python 3",
   "language": "python",
   "name": "python3"
  },
  "language_info": {
   "codemirror_mode": {
    "name": "ipython",
    "version": 3
   },
   "file_extension": ".py",
   "mimetype": "text/x-python",
   "name": "python",
   "nbconvert_exporter": "python",
   "pygments_lexer": "ipython3",
   "version": "3.6.10"
  }
 },
 "nbformat": 4,
 "nbformat_minor": 4
}
