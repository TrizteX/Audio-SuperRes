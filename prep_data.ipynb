{
 "cells": [
  {
   "cell_type": "code",
   "execution_count": 6,
   "metadata": {},
   "outputs": [],
   "source": [
    "import import_ipynb"
   ]
  },
  {
   "cell_type": "code",
   "execution_count": 7,
   "metadata": {},
   "outputs": [
    {
     "name": "stdout",
     "output_type": "stream",
     "text": [
      "importing Jupyter notebook from utils.ipynb\n"
     ]
    },
    {
     "name": "stderr",
     "output_type": "stream",
     "text": [
      "Using TensorFlow backend.\n"
     ]
    }
   ],
   "source": [
    "import os\n",
    "import numpy as np\n",
    "import librosa\n",
    "from utils import upsample\n",
    "import h5py\n",
    "import random \n",
    "from itertools import chain "
   ]
  },
  {
   "cell_type": "code",
   "execution_count": 8,
   "metadata": {},
   "outputs": [],
   "source": [
    "my_wav_dir = 'INPUT PATH HERE' # set your local path containing .wav data which should look like this '/home/user/Documents/VCTK-Corpus/VCTK-Corpus/wav48/' "
   ]
  },
  {
   "cell_type": "code",
   "execution_count": 9,
   "metadata": {},
   "outputs": [],
   "source": [
    "def save(dataset_name, X, Y):\n",
    "    with h5py.File(dataset_name, 'w') as f:\n",
    "        data_set = f.create_dataset('data', X.shape, np.float32) # lr\n",
    "        label_set = f.create_dataset('label', Y.shape, np.float32) # hr\n",
    "        data_set[...] = X\n",
    "        label_set[...] = Y\n",
    "    print('save complete -> %s'%(dataset_name))"
   ]
  },
  {
   "cell_type": "code",
   "execution_count": 10,
   "metadata": {},
   "outputs": [],
   "source": [
    "def preprocess(file_list, start, end, sr=48000, scale=6, dimension=64, stride=8, tag='train'):\n",
    "    random.shuffle(file_list)\n",
    "    data_size = end - start + 1\n",
    "    lr_patches = list()\n",
    "    hr_patches = list()\n",
    "    dataset_name = None\n",
    "    for i, wav_path in enumerate(file_list[start:end+1]):\n",
    "        if i % 10 == 0 : print(\"%s - %d/%d\"%(wav_path,i+1+start,len(file_list)))\n",
    "\n",
    "        # Get low sample rate version data for training\n",
    "        x_hr, fs = librosa.load(wav_path, sr=sr)\n",
    "        x_len = len(x_hr)\n",
    "        x_hr = x_hr[ : x_len - (x_len % scale)]\n",
    "        \n",
    "        # Down sampling for Low res version\n",
    "        #x_lr = decimate(x, scale)\n",
    "        x_lr = np.array(x_hr[0::scale])\n",
    "        \n",
    "        # Upscale using cubic spline Interpolation\n",
    "        x_lr = upsample(x_lr, scale)\n",
    "        \n",
    "        x_lr = np.reshape(x_lr,(len(x_lr),1))\n",
    "        x_hr = np.reshape(x_hr,(len(x_hr),1))\n",
    "        \n",
    "        for i in range(0, x_lr.shape[0]-dimension , stride):\n",
    "            lr_patch = x_lr[i:i+dimension]\n",
    "            \n",
    "            #mid = dimension // 2 - stride // 2\n",
    "            #hr_patch = x_hr[i+mid:i+mid+stride]\n",
    "            \n",
    "            hr_patch = x_hr[i:i+dimension]\n",
    "            \n",
    "            lr_patches.append(lr_patch)\n",
    "            hr_patches.append(hr_patch)\n",
    "    \n",
    "    hr_len = len(hr_patches)\n",
    "    lr_len = len(lr_patches)\n",
    "    \n",
    "    hr_patches = np.array(hr_patches[0:hr_len])\n",
    "    lr_patches = np.array(lr_patches[0:lr_len])\n",
    "    \n",
    "    print('high resolution(Y) dataset shape is ',hr_patches.shape)\n",
    "    print('low resolution(X) dataset shape is ',lr_patches.shape)\n",
    "                \n",
    "    dataset_name = 'INPUT PATH HERE-ex%d-start%d-end%d-scale%d-sr%d-dim%d-strd%d-%s.h5'%(data_size,\n",
    "                                                                                    start,\n",
    "                                                                                    end,\n",
    "                                                                                    scale,\n",
    "                                                                                    sr,\n",
    "                                                                                    dimension,\n",
    "                                                                                    stride,\n",
    "                                                                                    tag\n",
    "                                                                                   )#input path should look like this /home/user/audio-super-res/FASR_nb/data/asr\n",
    
    "    print(\"works\")\n",
    "    return lr_patches, hr_patches, dataset_name"
   ]
  },
  {
   "cell_type": "code",
   "execution_count": 11,
   "metadata": {},
   "outputs": [],
   "source": [
    "os.chdir(my_wav_dir)"
   ]
  },
  {
   "cell_type": "code",
   "execution_count": 16,
   "metadata": {},
   "outputs": [],
   "source": [
    "def load_wav_list_for_test(dirname=my_wav_dir):\n",
    "    file_list = []    \n",
    "    filenames = os.listdir(dirname)\n",
    "    file_extensions = set(['.wav'])\n",
    "    for filename in filenames:\n",
    "        ext = os.path.splitext(filename)[-1]\n",
    "        if ext in file_extensions:\n",
    "            full_filename = os.path.join(dirname, filename)\n",
    "            file_list.append(full_filename)\n",
    "    \n",
    "    print('load wav list examples..')\n",
    "    \n",
    "    for i, file in enumerate(file_list):\n",
    "        print(file)\n",
    "        if i > 5: break\n",
    "\n",
    "    return file_list"
   ]
  },
  {
   "cell_type": "code",
   "execution_count": 13,
   "metadata": {},
   "outputs": [],
   "source": [
    "def load_wav_list(dirname=my_wav_dir):\n",
    "    dir_list=os.listdir(dirname)\n",
    "    os.chdir(dirname)\n",
    "    wav_list=[]\n",
    "    for i in dir_list:\n",
    "        os.chdir(\"{0}\".format(i))\n",
    "        wav_list.append(os.listdir())\n",
    "        os.chdir(dirname)\n",
    "    wav_list=list(chain.from_iterable(wav_list))\n",
    "    \n",
    "    wavnpath_list=[]\n",
    "    for x in wav_list:\n",
    "        wav_list_file=str(x)\n",
    "        fir,throwaway=ss.split(sep='_')\n",
    "        sss= my_wav_dir+ '/' +fir +'/' + wav_list_file \n",
    "        wavnpath_list.append(sss)\n",
    "    \n",
    "    return wavnpath_list"
   ]
  },
  {
   "cell_type": "code",
   "execution_count": 14,
   "metadata": {},
   "outputs": [],
   "source": [
    "def run():\n",
    "    convert_limit = 10  # All  dataset size\n",
    "    dataset_size  = 10  # each dataset size\n",
    "    sr = 48000          # sampling rate\n",
    "    scale = 8           # down scaling ratio\n",
    "    dsr = sr // scale   # 48000 // 8 = 6000(hz)\n",
    "    dimension = 256     # Input & Output size \n",
    "    stride = 64         # stride size\n",
    "    \n",
    "    file_list = load_wav_list(dirname=my_wav_dir)\n",
    "    \n",
    "    for i in range(0, len(file_list), dataset_size):\n",
    "        if i == convert_limit: break\n",
    "        train_X, train_Y, trainset_name = preprocess(file_list = file_list,\n",
    "                                                     start   =  i, \n",
    "                                                     end     =  i + dataset_size - 1,\n",
    "                                                     sr      =  sr, \n",
    "                                                     scale   =  scale,\n",
    "                                                     dimension  =  dimension,\n",
    "                                                     stride  =  stride,\n",
    "                                                     tag     =  'train')\n",
    "        save(trainset_name, train_X, train_Y)"
   ]
  },
  {
   "cell_type": "code",
   "execution_count": null,
   "metadata": {},
   "outputs": [],
   "source": [
    "if __name__ == '__main__':\n",
    "    run()\n",
    "    "
   ]
  },
  {
   "cell_type": "code",
   "execution_count": null,
   "metadata": {},
   "outputs": [],
   "source": [
    "!ls"
   ]
  },
  {
   "cell_type": "code",
   "execution_count": null,
   "metadata": {},
   "outputs": [],
   "source": [
    "os.chdir(\"/\")"
   ]
  },
  {
   "cell_type": "code",
   "execution_count": null,
   "metadata": {},
   "outputs": [],
   "source": []
  },
  {
   "cell_type": "code",
   "execution_count": null,
   "metadata": {},
   "outputs": [],
   "source": []
  },
  {
   "cell_type": "code",
   "execution_count": null,
   "metadata": {},
   "outputs": [],
   "source": []
  },
  {
   "cell_type": "code",
   "execution_count": null,
   "metadata": {},
   "outputs": [],
   "source": []
  }
 ],
 "metadata": {
  "kernelspec": {
   "display_name": "Python 3",
   "language": "python",
   "name": "python3"
  },
  "language_info": {
   "codemirror_mode": {
    "name": "ipython",
    "version": 3
   },
   "file_extension": ".py",
   "mimetype": "text/x-python",
   "name": "python",
   "nbconvert_exporter": "python",
   "pygments_lexer": "ipython3",
   "version": "3.6.10"
  }
 },
 "nbformat": 4,
 "nbformat_minor": 4
}
